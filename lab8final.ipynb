{
 "cells": [
  {
   "cell_type": "code",
   "execution_count": 1,
   "id": "3eb7042f-e0c9-482c-a649-18e78ffe0be0",
   "metadata": {
    "tags": []
   },
   "outputs": [],
   "source": [
    "import numpy as np"
   ]
  },
  {
   "cell_type": "code",
   "execution_count": 2,
   "id": "2af5a219-d0ec-4104-8593-ac084777288a",
   "metadata": {
    "tags": []
   },
   "outputs": [],
   "source": [
    "def linear_congurence_next(a,x,b,m):\n",
    "    return (a*x+b)%m"
   ]
  },
  {
   "cell_type": "code",
   "execution_count": 3,
   "id": "f2653ea6-f50b-43b5-b49c-c92920d84652",
   "metadata": {
    "tags": []
   },
   "outputs": [],
   "source": [
    "mu=31\n",
    "nu=13\n",
    "m=16384\n",
    "b=1\n",
    "a=5\n",
    "x=3\n",
    "vals=[x/m]\n",
    "xs=[x]\n",
    "for i in range(mu):\n",
    "    x=linear_congurence_next(a,x,b,m)\n",
    "    vals.append(x/m)\n",
    "    xs.append(x)\n",
    "    \n",
    "for i in range(100_000):\n",
    "    xs.append((xs[-mu]-xs[-nu])%m)\n",
    "    vals.append(xs[-1]/m)\n",
    "    \n",
    "    "
   ]
  },
  {
   "cell_type": "code",
   "execution_count": 4,
   "id": "b0f9acf1-327b-44f1-912d-e0bec76ed0c0",
   "metadata": {
    "tags": []
   },
   "outputs": [],
   "source": [
    "def poisson_generator(lamda,u):\n",
    "    x=0\n",
    "    p=np.exp(-lamda)\n",
    "    s=p\n",
    "    while u>s:\n",
    "        x+=1\n",
    "        p*=lamda/x\n",
    "        s+=p\n",
    "    return x"
   ]
  },
  {
   "cell_type": "code",
   "execution_count": 5,
   "id": "88d633d9-5793-4594-9624-ce01b9d50fbe",
   "metadata": {
    "tags": []
   },
   "outputs": [],
   "source": [
    "def weibull_generator(k,scale,u):\n",
    "    return (-np.log(u+1e-9)/scale)**(1/k)\n",
    "    "
   ]
  },
  {
   "cell_type": "code",
   "execution_count": 6,
   "id": "1e266e07-6239-4737-86c1-30b6440c5f5f",
   "metadata": {
    "tags": []
   },
   "outputs": [],
   "source": [
    "lamda=2.9"
   ]
  },
  {
   "cell_type": "code",
   "execution_count": 7,
   "id": "8932f314-d668-44af-8680-56f7e1bb8340",
   "metadata": {},
   "outputs": [],
   "source": [
    "poi_vals1=[]\n",
    "poi_vals2=[]\n",
    "for i in range(100):\n",
    "    poi_vals1.append(poisson_generator(lamda,vals[i]))\n",
    "for i in range(i,i+10000):\n",
    "    poi_vals2.append(poisson_generator(lamda,vals[i]))\n",
    "\n",
    "\n",
    "\n"
   ]
  },
  {
   "cell_type": "code",
   "execution_count": 8,
   "id": "5cca790d-7a11-4465-9b0a-c65e830cc003",
   "metadata": {
    "tags": []
   },
   "outputs": [],
   "source": [
    "k=0.8\n",
    "scale=3**(-0.8)"
   ]
  },
  {
   "cell_type": "markdown",
   "id": "222c14bd-0cac-401c-99d4-691164f5905c",
   "metadata": {},
   "source": [
    "### Simple Monte Carlo"
   ]
  },
  {
   "cell_type": "code",
   "execution_count": 9,
   "id": "b37ca2ec-a757-4a62-b364-600474da8e2d",
   "metadata": {
    "tags": []
   },
   "outputs": [],
   "source": [
    "t=i\n",
    "r1=[]\n",
    "p=[]\n",
    "for j in range(len(poi_vals1)):\n",
    "    t1=0\n",
    "    for _ in range(poi_vals1[j]):\n",
    "        t1+=weibull_generator(k,scale,vals[t])\n",
    "        t+=1\n",
    "    p.append(t1<5)\n",
    "    r1.append(t1)"
   ]
  },
  {
   "cell_type": "code",
   "execution_count": 10,
   "id": "e458274f-c1e9-4ba3-822c-e5669022ed4a",
   "metadata": {
    "tags": []
   },
   "outputs": [],
   "source": [
    "r2=[]\n",
    "q=[]\n",
    "for j in range(len(poi_vals2)):\n",
    "    t1=0\n",
    "    for _ in range(poi_vals2[j]):\n",
    "        t1+=weibull_generator(k,scale,vals[t])\n",
    "        t+=1\n",
    "    q.append(t1<5)\n",
    "    r2.append(t1)"
   ]
  },
  {
   "cell_type": "code",
   "execution_count": 11,
   "id": "5c5e26ab-c242-4d3a-9d51-e6d9d6f21cac",
   "metadata": {
    "tags": []
   },
   "outputs": [
    {
     "name": "stdout",
     "output_type": "stream",
     "text": [
      "probability for n=100 0.46\n",
      "probability for n=10000 0.3671\n"
     ]
    }
   ],
   "source": [
    "print(\"probability for n=100\",sum(p)/100)\n",
    "print(\"probability for n=10000\",sum(q)/10000)"
   ]
  },
  {
   "cell_type": "code",
   "execution_count": 12,
   "id": "f5c94c15-afad-481d-a9dd-16085a867bd7",
   "metadata": {
    "tags": []
   },
   "outputs": [
    {
     "name": "stdout",
     "output_type": "stream",
     "text": [
      "Confidence Interval for n=100 is: ( 0.33076566738179547 , 0.5892343326182046 )\n",
      "Confidence Interval for n=10000 is: ( 0.3546634144447269 , 0.3795365855552731 )\n"
     ]
    }
   ],
   "source": [
    "mu1=np.mean(np.array(p))\n",
    "mu2=np.mean(np.array(q))\n",
    "s1=(np.sum(np.square(np.array(p)-mu1))/(len(poi_vals1)*(len(poi_vals1)-1)))**0.5\n",
    "s2=(np.sum(np.square(np.array(q)-mu2))/(len(poi_vals2)*(len(poi_vals2)-1)))**0.5\n",
    "print(\"Confidence Interval for n=100 is: (\",mu1-2.58*s1,\",\",mu1+2.58*s1,\")\")\n",
    "print(\"Confidence Interval for n=10000 is: (\",mu2-2.58*s2,\",\",mu2+2.58*s2,\")\")"
   ]
  },
  {
   "cell_type": "code",
   "execution_count": 13,
   "id": "91a66e26-d624-467f-b5b5-91cc53c5ebe8",
   "metadata": {
    "tags": []
   },
   "outputs": [],
   "source": [
    "from math import factorial as fac\n",
    "def f(x):\n",
    "    return np.exp(-2.9)*2.9**x/fac(x)\n",
    "# def g(x,k,scale):\n",
    "#     return k*scale*x**(k-1)*np.exp(-scale*x**k)"
   ]
  },
  {
   "cell_type": "code",
   "execution_count": 14,
   "id": "5f31e970-d975-4ff8-b4c7-618c6fa19fbf",
   "metadata": {
    "tags": []
   },
   "outputs": [],
   "source": [
    "def generate_for_s(k1,t,s):\n",
    "    q=[]\n",
    "    j=0\n",
    "    if s>5:\n",
    "        while len(q)<k1:\n",
    "            while poi_vals2[j]<6:\n",
    "                j+=1\n",
    "            t1=0\n",
    "            for _ in range(poi_vals2[j]):\n",
    "                t1+=weibull_generator(k,scale,vals[t])\n",
    "                t+=1\n",
    "            q.append(t1<5)\n",
    "            j+=1\n",
    "    else:\n",
    "        # print(s)\n",
    "        while len(q)<k1:\n",
    "            t1=0\n",
    "            for _ in range(s):\n",
    "                t1+=weibull_generator(k,scale,vals[t])\n",
    "                t+=1\n",
    "            # print(\"here is t1\",t1)\n",
    "            q.append(t1<5)\n",
    "    # print(k,scale)\n",
    "    mu=np.mean(np.array(q))\n",
    "    s=(np.sum(np.square(np.array(q)-mu))/(k1*(k1-1)))\n",
    "    return [mu,s]\n",
    "    "
   ]
  },
  {
   "cell_type": "code",
   "execution_count": 15,
   "id": "7f7731f9-f0e5-4ed4-a471-a9c0a8728549",
   "metadata": {
    "tags": []
   },
   "outputs": [],
   "source": [
    "w7=int(100*(1-f(5)-f(4)-f(3)-f(2)-f(1)-f(0)))\n",
    "p=1*f(0)\n",
    "variance1=0\n",
    "for s in range(1,7):\n",
    "    p1=p\n",
    "    if s<6:\n",
    "        mu,var=generate_for_s(int(100*f(s)),20_000+s*100,s)\n",
    "        p+=mu*f(s)\n",
    "        variance1+=f(s)**2*var\n",
    "    else:\n",
    "        mu,var=generate_for_s(w7,20_000+700,7)\n",
    "        p+=(1-f(5)-f(4)-f(3)-f(2)-f(1)-f(0))*mu\n",
    "        variance1+=(1-f(5)-f(4)-f(3)-f(2)-f(1)-f(0))**2*var\n",
    "    \n",
    "        "
   ]
  },
  {
   "cell_type": "code",
   "execution_count": 16,
   "id": "6a64fd3f-1203-43ea-a429-4b423ce9a8b7",
   "metadata": {
    "tags": []
   },
   "outputs": [],
   "source": [
    "w7=int(10000*(1-f(5)-f(4)-f(3)-f(2)-f(1)-f(0)))\n",
    "q=1*f(0)\n",
    "variance2=0\n",
    "for s in range(1,7):\n",
    "    p1=p\n",
    "    if s<6:\n",
    "        mu,var=generate_for_s(int(10000*f(s)),30_000+s*100,s)\n",
    "        q+=mu*f(s)\n",
    "        variance2+=f(s)**2*var\n",
    "    else:\n",
    "        mu,var=generate_for_s(w7,30_000+700,7)\n",
    "        q+=(1-f(5)-f(4)-f(3)-f(2)-f(1)-f(0))*mu\n",
    "        variance2+=(1-f(5)-f(4)-f(3)-f(2)-f(1)-f(0))**2*var\n",
    "    \n",
    "        "
   ]
  },
  {
   "cell_type": "code",
   "execution_count": 17,
   "id": "25bb143b-1fa1-489e-8199-a0dcd69f03bf",
   "metadata": {
    "tags": []
   },
   "outputs": [
    {
     "name": "stdout",
     "output_type": "stream",
     "text": [
      "probability for n=100 0.3842241300930192\n",
      "probability for n=10000 0.37313533890378864\n"
     ]
    }
   ],
   "source": [
    "print(\"probability for n=100\",p)\n",
    "print(\"probability for n=10000\",q)"
   ]
  },
  {
   "cell_type": "code",
   "execution_count": 18,
   "id": "c229fa5d-c1cb-4c70-a3ba-59bcdd74482e",
   "metadata": {
    "tags": []
   },
   "outputs": [
    {
     "name": "stdout",
     "output_type": "stream",
     "text": [
      "Confidence Interval for n=100 is: ( 0.38069890113535837 , 0.38774935905068003 )\n",
      "Confidence Interval for n=10000 is: ( 0.3730969265388537 , 0.3731737512687236 )\n"
     ]
    }
   ],
   "source": [
    "print(\"Confidence Interval for n=100 is: (\",p-2.58*variance1,\",\",p+2.58*variance1,\")\")\n",
    "print(\"Confidence Interval for n=10000 is: (\",q-2.58*variance2,\",\",q+2.58*variance2,\")\")"
   ]
  },
  {
   "cell_type": "markdown",
   "id": "a637d3e3-3adb-4403-8e13-7d62cc0557ec",
   "metadata": {},
   "source": [
    "### Question2"
   ]
  },
  {
   "cell_type": "code",
   "execution_count": 19,
   "id": "2fa141c1-9d79-4020-9095-5b058747d90f",
   "metadata": {
    "tags": []
   },
   "outputs": [],
   "source": [
    "alpha= [2082, 1999, 2008, 2047, 2199, 2153, 1999, 2136, 2053, 2121, 1974, 2110, 2110, 2168, 2035, 2019, 2044, 2191, 2284, 1912, 2196, 2099, 2041, 2192, 2188, 1984, 2158, 2019, 2032, 2051, 2192, 2133, 2142, 2113, 2150, 2221, 2046, 2127]"
   ]
  },
  {
   "cell_type": "code",
   "execution_count": 20,
   "id": "b8440858-7fdf-4125-b318-95e40ab0e3ad",
   "metadata": {
    "tags": []
   },
   "outputs": [],
   "source": [
    "np.random.seed(73)\n",
    "def gamma_gen(alpha,size):\n",
    "    w=[]\n",
    "    for _ in range(size):\n",
    "        w.append(np.sum(-np.log(np.random.uniform(0,1,alpha))))\n",
    "    return w\n",
    "        \n",
    "    \n",
    "    \n",
    "    "
   ]
  },
  {
   "cell_type": "code",
   "execution_count": 21,
   "id": "8643addf-ffdd-442b-87c6-790a74e8ecdc",
   "metadata": {
    "tags": []
   },
   "outputs": [],
   "source": [
    "def find(arr,x):\n",
    "    i=0\n",
    "    while i<len(arr) and arr[i]<x:\n",
    "        i+=1\n",
    "    return i/len(arr)"
   ]
  },
  {
   "cell_type": "code",
   "execution_count": 22,
   "id": "33115d83-ac79-4563-9748-f6c5ca4f5f0d",
   "metadata": {
    "tags": []
   },
   "outputs": [],
   "source": [
    "y19=gamma_gen(alpha[18],5_000)\n",
    "y=[]\n",
    "for z in range(38):\n",
    "    if z!=18:\n",
    "        zz=gamma_gen(alpha[z],5_000)\n",
    "        zz.sort()\n",
    "        y.append(zz)\n"
   ]
  },
  {
   "cell_type": "code",
   "execution_count": 23,
   "id": "363c74cb-a478-4072-ad9b-4a2c90a339e4",
   "metadata": {
    "tags": []
   },
   "outputs": [],
   "source": [
    "ans=[]\n",
    "for y_val in y19:\n",
    "    h=1\n",
    "    for arr in y:\n",
    "        h*=find(arr,y_val)\n",
    "    ans.append(h)\n",
    "    "
   ]
  },
  {
   "cell_type": "code",
   "execution_count": 24,
   "id": "1988fdf5-186a-47bb-a527-addd9466ca57",
   "metadata": {},
   "outputs": [
    {
     "name": "stdout",
     "output_type": "stream",
     "text": [
      "mu is= 0.6341307657595057\n",
      "variance is= 2.365457327277835e-05\n"
     ]
    }
   ],
   "source": [
    "mu=np.mean(ans)\n",
    "var=np.var(ans)/len(ans)\n",
    "print(\"mu is=\",np.mean(ans))\n",
    "print(\"variance is=\",var)\n"
   ]
  },
  {
   "cell_type": "markdown",
   "id": "02a3da6f-f070-4c58-acdb-83b35616834b",
   "metadata": {},
   "source": [
    "### Question 3"
   ]
  },
  {
   "cell_type": "code",
   "execution_count": 25,
   "id": "e7c8b549-2043-4d18-869f-463afcb464e2",
   "metadata": {
    "tags": []
   },
   "outputs": [],
   "source": [
    "log_norm=[]\n",
    "mu=[2,0,0,1,2]\n",
    "sigma2=[3,1,2,2,1]\n",
    "\n",
    "for z in range(5):\n",
    "    r=(-2*np.log(np.random.uniform(0,1,100_000)+1e-9))**0.5 #Adding a small value so that inside log it doesnt becomes 0\n",
    "    theta=2*np.pi*np.random.uniform(0,1,100_000)\n",
    "    box_muller=mu[z]+(sigma2[z]**0.5)*(r*np.cos(theta))\n",
    "    log_norm.append(np.exp(box_muller))"
   ]
  },
  {
   "cell_type": "code",
   "execution_count": 26,
   "id": "49b9656d-b372-4aa7-b750-b2d4e19cc6c2",
   "metadata": {
    "tags": []
   },
   "outputs": [],
   "source": [
    "fx=log_norm[0][:]\n",
    "hx=log_norm[0][:]\n",
    "for z in range(1,5):\n",
    "    fx=fx+log_norm[z][:]\n",
    "    hx=hx*log_norm[z][:]\n",
    "fx=fx/5\n",
    "hx=hx/5"
   ]
  },
  {
   "cell_type": "code",
   "execution_count": 27,
   "id": "74a99ce8-31a9-4e0b-b8cd-06ab7a02cafe",
   "metadata": {
    "tags": []
   },
   "outputs": [
    {
     "data": {
      "text/plain": [
       "array([18.79072551,  5.90070181,  2.01711126, ..., 22.25438929,\n",
       "       14.51641681, 24.66789679])"
      ]
     },
     "execution_count": 27,
     "metadata": {},
     "output_type": "execute_result"
    }
   ],
   "source": [
    "fx"
   ]
  },
  {
   "cell_type": "code",
   "execution_count": 28,
   "id": "c592ed31-b7a0-4219-b821-345280b6d5c1",
   "metadata": {
    "tags": []
   },
   "outputs": [
    {
     "data": {
      "text/plain": [
       "array([  30.19071266,   25.98412701,    2.69290768, ..., 1691.70551829,\n",
       "         30.55650575,   20.78160467])"
      ]
     },
     "execution_count": 28,
     "metadata": {},
     "output_type": "execute_result"
    }
   ],
   "source": [
    "hx"
   ]
  },
  {
   "cell_type": "code",
   "execution_count": 29,
   "id": "fa928889-f2d8-4f3d-9799-32cfc8e34f26",
   "metadata": {
    "tags": []
   },
   "outputs": [],
   "source": [
    "mu_=np.mean(fx)"
   ]
  },
  {
   "cell_type": "code",
   "execution_count": 30,
   "id": "8e294e2d-346c-40cc-b046-f8235872f54b",
   "metadata": {
    "tags": []
   },
   "outputs": [],
   "source": [
    "theta_=np.mean(hx)"
   ]
  },
  {
   "cell_type": "code",
   "execution_count": 31,
   "id": "21135f12-1980-4372-bc6f-b96fddd6db0e",
   "metadata": {
    "tags": []
   },
   "outputs": [],
   "source": [
    "beta_=np.sum((fx-mu_)*(hx-theta_))/(np.sum(np.square((hx-theta_))))"
   ]
  },
  {
   "cell_type": "code",
   "execution_count": 32,
   "id": "cccd4d15-3863-4a6b-8ee5-6617da512125",
   "metadata": {
    "tags": []
   },
   "outputs": [],
   "source": [
    "theta=np.exp(sum(mu) + 0.5 * sum(sigma2)) / 5"
   ]
  },
  {
   "cell_type": "code",
   "execution_count": 33,
   "id": "f1eb9b6b-fa08-476d-969f-8bf380980d1e",
   "metadata": {
    "tags": []
   },
   "outputs": [],
   "source": [
    "mean_= mu_+ beta_* (theta - theta_)"
   ]
  },
  {
   "cell_type": "code",
   "execution_count": 34,
   "id": "edb9bd6c-6400-426e-9b5a-776c4a5b31f5",
   "metadata": {
    "tags": []
   },
   "outputs": [],
   "source": [
    "variance=np.sum(np.square(fx - mu_ - beta_ * (hx - theta_))) / (len(log_norm[0])**2)\n",
    "l, r = mean_ - 2.58*np.sqrt(variance), mean_ + 2.58*np.sqrt(variance)"
   ]
  },
  {
   "cell_type": "code",
   "execution_count": 35,
   "id": "1640c600-ac76-4a35-96f8-ac5f0f673261",
   "metadata": {
    "tags": []
   },
   "outputs": [
    {
     "name": "stdout",
     "output_type": "stream",
     "text": [
      "mu is= 11.444181125411916\n",
      "variance is= 0.006912495807679744\n",
      "with 99% confidence interval=( 11.22967626044555 , 11.658685990378283 )\n"
     ]
    }
   ],
   "source": [
    "print(\"mu is=\",mean_)\n",
    "print(\"variance is=\",variance)\n",
    "print(\"with 99% confidence interval=(\",l,\",\",r,\")\")"
   ]
  },
  {
   "cell_type": "code",
   "execution_count": null,
   "id": "f3e1d94c-10df-4bb4-87c6-368da8bbc5ec",
   "metadata": {},
   "outputs": [],
   "source": []
  },
  {
   "cell_type": "code",
   "execution_count": null,
   "id": "c1a76674-3ba3-4a74-9263-5695e44e62df",
   "metadata": {},
   "outputs": [],
   "source": []
  },
  {
   "cell_type": "code",
   "execution_count": null,
   "id": "5f8c931e-7661-408e-8c54-853e70b066ed",
   "metadata": {},
   "outputs": [],
   "source": []
  }
 ],
 "metadata": {
  "kernelspec": {
   "display_name": "Python 3 (ipykernel)",
   "language": "python",
   "name": "python3"
  },
  "language_info": {
   "codemirror_mode": {
    "name": "ipython",
    "version": 3
   },
   "file_extension": ".py",
   "mimetype": "text/x-python",
   "name": "python",
   "nbconvert_exporter": "python",
   "pygments_lexer": "ipython3",
   "version": "3.9.13"
  }
 },
 "nbformat": 4,
 "nbformat_minor": 5
}
